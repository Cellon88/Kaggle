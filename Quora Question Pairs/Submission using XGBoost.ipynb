{
 "cells": [
  {
   "cell_type": "markdown",
   "metadata": {},
   "source": [
    "# Submission using XGBoost"
   ]
  },
  {
   "cell_type": "code",
   "execution_count": 1,
   "metadata": {
    "collapsed": true
   },
   "outputs": [],
   "source": [
    "import numpy as np\n",
    "import pandas as pd\n",
    "%matplotlib inline"
   ]
  },
  {
   "cell_type": "markdown",
   "metadata": {},
   "source": [
    "## Prepare data"
   ]
  },
  {
   "cell_type": "code",
   "execution_count": 2,
   "metadata": {
    "collapsed": true
   },
   "outputs": [],
   "source": [
    "from sklearn.model_selection import train_test_split"
   ]
  },
  {
   "cell_type": "code",
   "execution_count": 3,
   "metadata": {},
   "outputs": [
    {
     "name": "stdout",
     "output_type": "stream",
     "text": [
      "<class 'pandas.core.frame.DataFrame'>\n",
      "Int64Index: 404290 entries, 0 to 404289\n",
      "Data columns (total 10 columns):\n",
      "is_duplicate      404290 non-null int64\n",
      "question1         404290 non-null object\n",
      "question2         404290 non-null object\n",
      "diff_avg_word     404290 non-null float64\n",
      "tf_distance1      404290 non-null float64\n",
      "tf_distance2      404290 non-null float64\n",
      "cnt_distance      404290 non-null float64\n",
      "jaccard_dist      404290 non-null float64\n",
      "word_match        404290 non-null float64\n",
      "doc_similarity    404290 non-null float64\n",
      "dtypes: float64(7), int64(1), object(2)\n",
      "memory usage: 33.9+ MB\n"
     ]
    }
   ],
   "source": [
    "df = pd.read_pickle('input/train.p')\n",
    "df.info()"
   ]
  },
  {
   "cell_type": "code",
   "execution_count": 4,
   "metadata": {
    "collapsed": true
   },
   "outputs": [],
   "source": [
    "training_fields = ['diff_avg_word', 'tf_distance1', 'tf_distance2', 'cnt_distance', \n",
    "                   'jaccard_dist', 'word_match', 'doc_similarity']"
   ]
  },
  {
   "cell_type": "code",
   "execution_count": 5,
   "metadata": {
    "collapsed": true
   },
   "outputs": [],
   "source": [
    "X_train, X_test, y_train, y_test = train_test_split(\n",
    "        df[training_fields], df['is_duplicate'], test_size=0.2, random_state=42)"
   ]
  },
  {
   "cell_type": "markdown",
   "metadata": {},
   "source": [
    "## Training XGBoost model"
   ]
  },
  {
   "cell_type": "code",
   "execution_count": 14,
   "metadata": {
    "collapsed": true,
    "scrolled": true
   },
   "outputs": [],
   "source": [
    "from xgboost.sklearn import XGBClassifier\n",
    "from sklearn.model_selection import GridSearchCV\n",
    "import xgboost as xgb"
   ]
  },
  {
   "cell_type": "code",
   "execution_count": 10,
   "metadata": {},
   "outputs": [],
   "source": [
    "cv_params = {}\n",
    "cv_params['max_depth'] = [3,5,7]\n",
    "cv_params['min_child_weight'] = [1,3,5]\n",
    "\n",
    "ind_params = {}\n",
    "ind_params['learning_rate'] = 0.1\n",
    "ind_params['n_estimators'] = 1000\n",
    "ind_params['seed'] = 0\n",
    "ind_params['subsample'] = 0.8\n",
    "ind_params['colsample_bytree'] = 0.8\n",
    "ind_params['objective'] = 'binary:logistic'"
   ]
  },
  {
   "cell_type": "code",
   "execution_count": 11,
   "metadata": {
    "collapsed": true
   },
   "outputs": [],
   "source": [
    "# parameter tuning for xgboost\n",
    "params = {}\n",
    "params['objective'] = 'binary:logistic'\n",
    "params['eval_metric'] = 'logloss'\n",
    "params['eta'] = 0.02\n",
    "params['max_depth'] = 7"
   ]
  },
  {
   "cell_type": "code",
   "execution_count": 12,
   "metadata": {},
   "outputs": [],
   "source": [
    "optimized_GBM = GridSearchCV(XGBClassifier(**ind_params), cv_params, scoring='accuracy', cv=5, n_jobs=-1)\n",
    "optimized_GBM.fit(X_train[training_fields], y_train)"
   ]
  },
  {
   "cell_type": "code",
   "execution_count": null,
   "metadata": {
    "collapsed": true
   },
   "outputs": [],
   "source": [
    "best_parameters, score, _ = max(optimized_GBM.grid_scores_, key=lambda x: x[1])\n",
    "print('Raw AUC score:', score)\n",
    "for param_name in sorted(best_parameters.keys()):\n",
    "    print(\"%s: %r\" % (param_name, best_parameters[param_name]))\n",
    "\n",
    "test_probs = clf.predict_proba(y_train)[:,1]"
   ]
  },
  {
   "cell_type": "code",
   "execution_count": 15,
   "metadata": {},
   "outputs": [
    {
     "name": "stdout",
     "output_type": "stream",
     "text": [
      "[0]\ttrain-logloss:0.684799\tvalid-logloss:0.684864\n",
      "Multiple eval metrics have been passed: 'valid-logloss' will be used for early stopping.\n",
      "\n",
      "Will train until valid-logloss hasn't improved in 50 rounds.\n",
      "[10]\ttrain-logloss:0.616406\tvalid-logloss:0.617034\n",
      "[20]\ttrain-logloss:0.567901\tvalid-logloss:0.568919\n",
      "[30]\ttrain-logloss:0.532301\tvalid-logloss:0.53369\n",
      "[40]\ttrain-logloss:0.505475\tvalid-logloss:0.507179\n",
      "[50]\ttrain-logloss:0.484881\tvalid-logloss:0.486924\n",
      "[60]\ttrain-logloss:0.468869\tvalid-logloss:0.471239\n",
      "[70]\ttrain-logloss:0.456217\tvalid-logloss:0.45887\n",
      "[80]\ttrain-logloss:0.446362\tvalid-logloss:0.449304\n",
      "[90]\ttrain-logloss:0.438457\tvalid-logloss:0.44165\n",
      "[100]\ttrain-logloss:0.432067\tvalid-logloss:0.435528\n",
      "[110]\ttrain-logloss:0.426888\tvalid-logloss:0.43061\n",
      "[120]\ttrain-logloss:0.422813\tvalid-logloss:0.426784\n",
      "[130]\ttrain-logloss:0.419501\tvalid-logloss:0.42369\n",
      "[140]\ttrain-logloss:0.416781\tvalid-logloss:0.421205\n",
      "[150]\ttrain-logloss:0.414531\tvalid-logloss:0.419162\n",
      "[160]\ttrain-logloss:0.41262\tvalid-logloss:0.417444\n",
      "[170]\ttrain-logloss:0.410958\tvalid-logloss:0.415972\n",
      "[180]\ttrain-logloss:0.409576\tvalid-logloss:0.414787\n",
      "[190]\ttrain-logloss:0.408416\tvalid-logloss:0.413837\n",
      "[199]\ttrain-logloss:0.407474\tvalid-logloss:0.413051\n"
     ]
    }
   ],
   "source": [
    "d_train = xgb.DMatrix(X_train[training_fields], label=y_train)\n",
    "d_valid = xgb.DMatrix(X_test[training_fields], label=y_test)\n",
    "watchlist = [(d_train, 'train'), (d_valid, 'valid')]\n",
    "bst = xgb.train(params, d_train, 200, watchlist, early_stopping_rounds=50, verbose_eval=10)"
   ]
  },
  {
   "cell_type": "code",
   "execution_count": 16,
   "metadata": {},
   "outputs": [
    {
     "data": {
      "text/plain": [
       "<matplotlib.axes._subplots.AxesSubplot at 0x10e6e69e8>"
      ]
     },
     "execution_count": 16,
     "metadata": {},
     "output_type": "execute_result"
    },
    {
     "data": {
      "image/png": "[encoded data removed]",
      "text/plain": [
       "<matplotlib.figure.Figure at 0x10e6e6080>"
      ]
     },
     "metadata": {},
     "output_type": "display_data"
    }
   ],
   "source": [
    "bst.save_model('input/bst_52.model')\n",
    "xgb.plot_importance(bst)"
   ]
  },
  {
   "cell_type": "markdown",
   "metadata": {},
   "source": [
    "## Submission"
   ]
  },
  {
   "cell_type": "code",
   "execution_count": null,
   "metadata": {
    "collapsed": true
   },
   "outputs": [],
   "source": [
    "from utils import parallelize_dataframe\n",
    "from utils import text_cleaning\n",
    "from utils import word_match_share\n",
    "from utils import preprocessing_test\n",
    "\n",
    "from sklearn.feature_extraction.text import TfidfVectorizer\n",
    "from sklearn.feature_extraction.text import CountVectorizer\n",
    "from sklearn.metrics.pairwise import paired_cosine_distances\n",
    "from nltk.metrics.distance import jaccard_distance"
   ]
  },
  {
   "cell_type": "code",
   "execution_count": null,
   "metadata": {},
   "outputs": [],
   "source": [
    "test = pd.read_pickle(\"input/test.p\")\n",
    "test.info()"
   ]
  },
  {
   "cell_type": "code",
   "execution_count": null,
   "metadata": {
    "scrolled": true
   },
   "outputs": [],
   "source": [
    "df_test = pd.read_csv(\"input/test.csv\", low_memory=False, iterator=True, chunksize=600000)\n",
    "df_test = pd.concat(df_test, ignore_index=True)\n",
    "df_test.info()"
   ]
  },
  {
   "cell_type": "code",
   "execution_count": null,
   "metadata": {
    "collapsed": true
   },
   "outputs": [],
   "source": [
    "df_test['len_q1'] = df_test['question1'].apply(lambda x: len(str(x)))\n",
    "df_test['len_q2'] = df_test['question2'].apply(lambda x: len(str(x)))\n",
    "df_test['len_word_q1'] = df_test['question1'].apply(lambda x: len(str(x).split()))\n",
    "df_test['len_word_q2'] = df_test['question2'].apply(lambda x: len(str(x).split()))\n",
    "df_test['len_word_q2'] = df_test['len_word_q2'].fillna(0)\n",
    "df_test['avg_world_len1'] = df_test['len_q1'] / df_test['len_word_q1']\n",
    "df_test['avg_world_len2'] = df_test['len_q2'] / df_test['len_word_q2']\n",
    "\n",
    "test['diff_avg_word'] = df_test['avg_world_len1'] - df_test['avg_world_len2']\n",
    "test['word_match'] = df_test.apply(word_match_share, axis=1, raw=True)  "
   ]
  },
  {
   "cell_type": "code",
   "execution_count": null,
   "metadata": {
    "collapsed": true
   },
   "outputs": [],
   "source": [
    "all_questions = test['question1'].append(test['question2'])\n",
    "tfidf = TfidfVectorizer(lowercase=True, binary=True).fit(all_questions)\n",
    "q1_tfidf1 = tfidf.transform(test['question1'])\n",
    "q2_tfidf1 = tfidf.transform(test['question2'])\n",
    "tfidf = TfidfVectorizer(lowercase=True, binary=True, ngram_range=(1,3), analyzer='word', \\\n",
    "                        max_features=100000, max_df=0.5, min_df=30, use_idf=True).fit(all_questions)\n",
    "q1_tfidf2 = tfidf.transform(test['question1'])\n",
    "q2_tfidf2 = tfidf.transform(test['question2'])"
   ]
  },
  {
   "cell_type": "code",
   "execution_count": null,
   "metadata": {},
   "outputs": [],
   "source": [
    "count = CountVectorizer(lowercase=True, binary=True, ngram_range=(1,10), analyzer='char', \\\n",
    "                        max_features=300000, max_df=0.999, min_df=50).fit(all_questions)\n",
    "q1_count = count.transform(test['question1'])\n",
    "q2_count = count.transform(test['question2'])"
   ]
  },
  {
   "cell_type": "code",
   "execution_count": null,
   "metadata": {
    "collapsed": true
   },
   "outputs": [],
   "source": [
    "test['tf_distance1'] = paired_cosine_distances(q1_tfidf1, q2_tfidf1)\n",
    "test['tf_distance2'] = paired_cosine_distances(q1_tfidf2, q2_tfidf2)"
   ]
  },
  {
   "cell_type": "code",
   "execution_count": null,
   "metadata": {
    "collapsed": true
   },
   "outputs": [],
   "source": [
    "test['cnt_distance'] = paired_cosine_distances(q1_count, q2_count)\n",
    "test['jaccard_dist'] = df_test.apply(lambda x: jaccard_distance(set(str(x.question1).split(' ')), \\\n",
    "                                                                set(str(x.question2).split(' '))), axis=1)"
   ]
  },
  {
   "cell_type": "code",
   "execution_count": null,
   "metadata": {
    "collapsed": true
   },
   "outputs": [],
   "source": [
    "d_test = xgb.DMatrix(df_test[training_fields])\n",
    "p_test = bst.predict(d_test)"
   ]
  },
  {
   "cell_type": "code",
   "execution_count": null,
   "metadata": {
    "collapsed": true
   },
   "outputs": [],
   "source": [
    "sub = pd.DataFrame()\n",
    "sub['test_id'] = df_test['test_id']\n",
    "sub['is_duplicate'] = p_test\n",
    "sub.to_csv('simple_xgb.csv', index=False)"
   ]
  }
 ],
 "metadata": {
  "kernelspec": {
   "display_name": "Python 3",
   "language": "python",
   "name": "python3"
  },
  "language_info": {
   "codemirror_mode": {
    "name": "ipython",
    "version": 3
   },
   "file_extension": ".py",
   "mimetype": "text/x-python",
   "name": "python",
   "nbconvert_exporter": "python",
   "pygments_lexer": "ipython3",
   "version": "3.5.1"
  }
 },
 "nbformat": 4,
 "nbformat_minor": 2
}
