{
 "cells": [
  {
   "cell_type": "markdown",
   "metadata": {},
   "source": [
    "# Submission using XGBoost"
   ]
  },
  {
   "cell_type": "code",
   "execution_count": 1,
   "metadata": {
    "collapsed": true
   },
   "outputs": [],
   "source": [
    "import numpy as np\n",
    "import pandas as pd\n",
    "%matplotlib inline"
   ]
  },
  {
   "cell_type": "markdown",
   "metadata": {},
   "source": [
    "## Prepare data"
   ]
  },
  {
   "cell_type": "code",
   "execution_count": 5,
   "metadata": {
    "collapsed": true
   },
   "outputs": [],
   "source": [
    "from sklearn.model_selection import train_test_split"
   ]
  },
  {
   "cell_type": "code",
   "execution_count": 6,
   "metadata": {
    "collapsed": false
   },
   "outputs": [
    {
     "name": "stdout",
     "output_type": "stream",
     "text": [
      "<class 'pandas.core.frame.DataFrame'>\n",
      "Int64Index: 404290 entries, 0 to 404289\n",
      "Data columns (total 9 columns):\n",
      "is_duplicate     404290 non-null int64\n",
      "question1        404290 non-null object\n",
      "question2        404290 non-null object\n",
      "diff_avg_word    404290 non-null float64\n",
      "tf_distance1     404290 non-null float64\n",
      "tf_distance2     404290 non-null float64\n",
      "cnt_distance     404290 non-null float64\n",
      "jaccard_dist     404290 non-null float64\n",
      "word_match       404290 non-null float64\n",
      "dtypes: float64(6), int64(1), object(2)\n",
      "memory usage: 30.8+ MB\n"
     ]
    }
   ],
   "source": [
    "df = pd.read_pickle('input/train.p')\n",
    "df.info()"
   ]
  },
  {
   "cell_type": "code",
   "execution_count": 7,
   "metadata": {
    "collapsed": true
   },
   "outputs": [],
   "source": [
    "training_fields = ['diff_avg_word', 'tf_distance1', 'tf_distance2', 'cnt_distance', 'jaccard_dist', 'word_match']"
   ]
  },
  {
   "cell_type": "code",
   "execution_count": 8,
   "metadata": {
    "collapsed": true
   },
   "outputs": [],
   "source": [
    "X_train, X_test, y_train, y_test = train_test_split(\n",
    "        df[training_fields], df['is_duplicate'], test_size=0.2, random_state=42)"
   ]
  },
  {
   "cell_type": "markdown",
   "metadata": {},
   "source": [
    "## Training XGBoost model"
   ]
  },
  {
   "cell_type": "code",
   "execution_count": 9,
   "metadata": {
    "collapsed": true,
    "scrolled": true
   },
   "outputs": [],
   "source": [
    "import xgboost as xgb"
   ]
  },
  {
   "cell_type": "code",
   "execution_count": 10,
   "metadata": {
    "collapsed": true
   },
   "outputs": [],
   "source": [
    "# Set our parameters for xgboost\n",
    "params = {}\n",
    "params['objective'] = 'binary:logistic'\n",
    "params['eval_metric'] = 'logloss'\n",
    "params['eta'] = 0.02\n",
    "params['max_depth'] = 5"
   ]
  },
  {
   "cell_type": "code",
   "execution_count": 11,
   "metadata": {
    "collapsed": false
   },
   "outputs": [
    {
     "name": "stdout",
     "output_type": "stream",
     "text": [
      "[0]\ttrain-logloss:0.685132\tvalid-logloss:0.685178\n",
      "Multiple eval metrics have been passed: 'valid-logloss' will be used for early stopping.\n",
      "\n",
      "Will train until valid-logloss hasn't improved in 50 rounds.\n",
      "[10]\ttrain-logloss:0.619468\tvalid-logloss:0.619895\n",
      "[20]\ttrain-logloss:0.572839\tvalid-logloss:0.573505\n",
      "[30]\ttrain-logloss:0.538575\tvalid-logloss:0.539437\n",
      "[40]\ttrain-logloss:0.512781\tvalid-logloss:0.513831\n",
      "[50]\ttrain-logloss:0.492964\tvalid-logloss:0.494164\n",
      "[60]\ttrain-logloss:0.477433\tvalid-logloss:0.478726\n",
      "[70]\ttrain-logloss:0.465185\tvalid-logloss:0.466524\n",
      "[80]\ttrain-logloss:0.455645\tvalid-logloss:0.457129\n",
      "[90]\ttrain-logloss:0.447994\tvalid-logloss:0.449561\n",
      "[100]\ttrain-logloss:0.441767\tvalid-logloss:0.443424\n",
      "[110]\ttrain-logloss:0.436697\tvalid-logloss:0.43842\n",
      "[120]\ttrain-logloss:0.432732\tvalid-logloss:0.434553\n",
      "[130]\ttrain-logloss:0.429481\tvalid-logloss:0.431368\n",
      "[140]\ttrain-logloss:0.426884\tvalid-logloss:0.428855\n",
      "[150]\ttrain-logloss:0.424654\tvalid-logloss:0.426689\n",
      "[160]\ttrain-logloss:0.422679\tvalid-logloss:0.424783\n",
      "[170]\ttrain-logloss:0.421013\tvalid-logloss:0.423174\n",
      "[180]\ttrain-logloss:0.419584\tvalid-logloss:0.421795\n",
      "[190]\ttrain-logloss:0.418373\tvalid-logloss:0.420648\n",
      "[199]\ttrain-logloss:0.417396\tvalid-logloss:0.419707\n"
     ]
    }
   ],
   "source": [
    "d_train = xgb.DMatrix(X_train[training_fields], label=y_train)\n",
    "d_valid = xgb.DMatrix(X_test[training_fields], label=y_test)\n",
    "watchlist = [(d_train, 'train'), (d_valid, 'valid')]\n",
    "bst = xgb.train(params, d_train, 200, watchlist, early_stopping_rounds=50, verbose_eval=10)"
   ]
  },
  {
   "cell_type": "code",
   "execution_count": 12,
   "metadata": {
    "collapsed": false
   },
   "outputs": [
    {
     "data": {
      "text/plain": [
       "<matplotlib.axes._subplots.AxesSubplot at 0x7f528703d7f0>"
      ]
     },
     "execution_count": 12,
     "metadata": {},
     "output_type": "execute_result"
    },
    {
     "data": {
      "image/png": "[encoded data removed]",
      "text/plain": [
       "<matplotlib.figure.Figure at 0x7f52877f1e10>"
      ]
     },
     "metadata": {},
     "output_type": "display_data"
    }
   ],
   "source": [
    "bst.save_model('input/bst_52.model')\n",
    "xgb.plot_importance(bst)"
   ]
  },
  {
   "cell_type": "markdown",
   "metadata": {},
   "source": [
    "## Submission"
   ]
  },
  {
   "cell_type": "code",
   "execution_count": 2,
   "metadata": {
    "collapsed": true
   },
   "outputs": [],
   "source": [
    "from utils import parallelize_dataframe\n",
    "from utils import text_cleaning\n",
    "from utils import word_match_share\n",
    "from utils import preprocessing_test\n",
    "\n",
    "from sklearn.feature_extraction.text import TfidfVectorizer\n",
    "from sklearn.feature_extraction.text import CountVectorizer\n",
    "from sklearn.metrics.pairwise import paired_cosine_distances\n",
    "from nltk.metrics.distance import jaccard_distance"
   ]
  },
  {
   "cell_type": "code",
   "execution_count": 14,
   "metadata": {
    "collapsed": false
   },
   "outputs": [
    {
     "name": "stdout",
     "output_type": "stream",
     "text": [
      "<class 'pandas.core.frame.DataFrame'>\n",
      "Int64Index: 2345796 entries, 0 to 2345795\n",
      "Data columns (total 2 columns):\n",
      "question1    object\n",
      "question2    object\n",
      "dtypes: object(2)\n",
      "memory usage: 53.7+ MB\n"
     ]
    }
   ],
   "source": [
    "test = pd.read_pickle(\"input/test.p\")\n",
    "test.info()"
   ]
  },
  {
   "cell_type": "code",
   "execution_count": 3,
   "metadata": {
    "collapsed": false,
    "scrolled": true
   },
   "outputs": [
    {
     "name": "stdout",
     "output_type": "stream",
     "text": [
      "<class 'pandas.core.frame.DataFrame'>\n",
      "RangeIndex: 2345796 entries, 0 to 2345795\n",
      "Data columns (total 3 columns):\n",
      "test_id      int64\n",
      "question1    object\n",
      "question2    object\n",
      "dtypes: int64(1), object(2)\n",
      "memory usage: 53.7+ MB\n"
     ]
    }
   ],
   "source": [
    "df_test = pd.read_csv(\"input/test.csv\", low_memory=False, iterator=True, chunksize=600000)\n",
    "df_test = pd.concat(df_test, ignore_index=True)\n",
    "df_test.info()"
   ]
  },
  {
   "cell_type": "code",
   "execution_count": 7,
   "metadata": {
    "collapsed": true
   },
   "outputs": [],
   "source": [
    "df_test['len_q1'] = df_test['question1'].apply(lambda x: len(str(x)))\n",
    "df_test['len_q2'] = df_test['question2'].apply(lambda x: len(str(x)))\n",
    "df_test['len_word_q1'] = df_test['question1'].apply(lambda x: len(str(x).split()))\n",
    "df_test['len_word_q2'] = df_test['question2'].apply(lambda x: len(str(x).split()))\n",
    "df_test['len_word_q2'] = df_test['len_word_q2'].fillna(0)\n",
    "df_test['avg_world_len1'] = df_test['len_q1'] / df_test['len_word_q1']\n",
    "df_test['avg_world_len2'] = df_test['len_q2'] / df_test['len_word_q2']\n",
    "\n",
    "test['diff_avg_word'] = df_test['avg_world_len1'] - df_test['avg_world_len2']\n",
    "test['word_match'] = df_test.apply(word_match_share, axis=1, raw=True)  "
   ]
  },
  {
   "cell_type": "code",
   "execution_count": 15,
   "metadata": {
    "collapsed": true
   },
   "outputs": [],
   "source": [
    "all_questions = test['question1'].append(test['question2'])\n",
    "tfidf = TfidfVectorizer(lowercase=True, binary=True).fit(all_questions)\n",
    "q1_tfidf1 = tfidf.transform(test['question1'])\n",
    "q2_tfidf1 = tfidf.transform(test['question2'])\n",
    "tfidf = TfidfVectorizer(lowercase=True, binary=True, ngram_range=(1,3), analyzer='word', \\\n",
    "                        max_features=100000, max_df=0.5, min_df=30, use_idf=True).fit(all_questions)\n",
    "q1_tfidf2 = tfidf.transform(test['question1'])\n",
    "q2_tfidf2 = tfidf.transform(test['question2'])"
   ]
  },
  {
   "cell_type": "code",
   "execution_count": 20,
   "metadata": {
    "collapsed": false
   },
   "outputs": [],
   "source": [
    "count = CountVectorizer(lowercase=True, binary=True, ngram_range=(1,10), analyzer='char', \\\n",
    "                        max_features=300000, max_df=0.999, min_df=50).fit(all_questions)\n",
    "q1_count = count.transform(test['question1'])\n",
    "q2_count = count.transform(test['question2'])"
   ]
  },
  {
   "cell_type": "code",
   "execution_count": 16,
   "metadata": {
    "collapsed": true
   },
   "outputs": [],
   "source": [
    "test['tf_distance1'] = paired_cosine_distances(q1_tfidf1, q2_tfidf1)\n",
    "test['tf_distance2'] = paired_cosine_distances(q1_tfidf2, q2_tfidf2)"
   ]
  },
  {
   "cell_type": "code",
   "execution_count": null,
   "metadata": {
    "collapsed": true
   },
   "outputs": [],
   "source": [
    "test['cnt_distance'] = paired_cosine_distances(q1_count, q2_count)\n",
    "test['jaccard_dist'] = df_test.apply(lambda x: jaccard_distance(set(str(x.question1).split(' ')), \\\n",
    "                                                                set(str(x.question2).split(' '))), axis=1)"
   ]
  },
  {
   "cell_type": "code",
   "execution_count": 20,
   "metadata": {
    "collapsed": true
   },
   "outputs": [],
   "source": [
    "d_test = xgb.DMatrix(df_test[training_fields])\n",
    "p_test = bst.predict(d_test)"
   ]
  },
  {
   "cell_type": "code",
   "execution_count": null,
   "metadata": {
    "collapsed": true
   },
   "outputs": [],
   "source": [
    "sub = pd.DataFrame()\n",
    "sub['test_id'] = df_test['test_id']\n",
    "sub['is_duplicate'] = p_test\n",
    "sub.to_csv('simple_xgb.csv', index=False)"
   ]
  }
 ],
 "metadata": {
  "kernelspec": {
   "display_name": "Python 3",
   "language": "python",
   "name": "python3"
  },
  "language_info": {
   "codemirror_mode": {
    "name": "ipython",
    "version": 3
   },
   "file_extension": ".py",
   "mimetype": "text/x-python",
   "name": "python",
   "nbconvert_exporter": "python",
   "pygments_lexer": "ipython3",
   "version": "3.6.0"
  }
 },
 "nbformat": 4,
 "nbformat_minor": 2
}
