{
 "cells": [
  {
   "cell_type": "markdown",
   "metadata": {},
   "source": [
    "# Submission using XGBoost"
   ]
  },
  {
   "cell_type": "code",
   "execution_count": 2,
   "metadata": {
    "collapsed": true
   },
   "outputs": [],
   "source": [
    "import numpy as np\n",
    "import pandas as pd\n",
    "%matplotlib inline"
   ]
  },
  {
   "cell_type": "markdown",
   "metadata": {},
   "source": [
    "## Prepare data"
   ]
  },
  {
   "cell_type": "code",
   "execution_count": 31,
   "metadata": {
    "collapsed": true
   },
   "outputs": [],
   "source": [
    "from sklearn.model_selection import train_test_split"
   ]
  },
  {
   "cell_type": "code",
   "execution_count": 32,
   "metadata": {
    "collapsed": false
   },
   "outputs": [
    {
     "name": "stdout",
     "output_type": "stream",
     "text": [
      "<class 'pandas.core.frame.DataFrame'>\n",
      "Int64Index: 404290 entries, 0 to 404289\n",
      "Data columns (total 9 columns):\n",
      "is_duplicate     404290 non-null int64\n",
      "question1        404290 non-null object\n",
      "question2        404290 non-null object\n",
      "diff_avg_word    404290 non-null float64\n",
      "tf_distance1     404290 non-null float64\n",
      "tf_distance2     404290 non-null float64\n",
      "cnt_distance     404290 non-null float64\n",
      "jaccard_dist     404290 non-null float64\n",
      "word_match       404290 non-null float64\n",
      "dtypes: float64(6), int64(1), object(2)\n",
      "memory usage: 30.8+ MB\n"
     ]
    }
   ],
   "source": [
    "df = pd.read_pickle('input/train.p')\n",
    "df.info()"
   ]
  },
  {
   "cell_type": "code",
   "execution_count": 35,
   "metadata": {
    "collapsed": true
   },
   "outputs": [],
   "source": [
    "training_fields = ['diff_avg_word', 'tf_distance1', 'tf_distance2', 'cnt_distance', 'jaccard_dist']"
   ]
  },
  {
   "cell_type": "code",
   "execution_count": 36,
   "metadata": {
    "collapsed": false
   },
   "outputs": [],
   "source": [
    "X_train, X_test, y_train, y_test = train_test_split(\n",
    "        df[training_fields], df['is_duplicate'], test_size=0.2, random_state=42)"
   ]
  },
  {
   "cell_type": "markdown",
   "metadata": {},
   "source": [
    "## Training XGBoost model"
   ]
  },
  {
   "cell_type": "code",
   "execution_count": 37,
   "metadata": {
    "collapsed": false,
    "scrolled": true
   },
   "outputs": [],
   "source": [
    "import xgboost as xgb"
   ]
  },
  {
   "cell_type": "code",
   "execution_count": 38,
   "metadata": {
    "collapsed": true
   },
   "outputs": [],
   "source": [
    "# Set our parameters for xgboost\n",
    "params = {}\n",
    "params['objective'] = 'binary:logistic'\n",
    "params['eval_metric'] = 'logloss'\n",
    "params['eta'] = 0.02\n",
    "params['max_depth'] = 5"
   ]
  },
  {
   "cell_type": "code",
   "execution_count": 39,
   "metadata": {
    "collapsed": false
   },
   "outputs": [
    {
     "name": "stdout",
     "output_type": "stream",
     "text": [
      "[0]\ttrain-logloss:0.686865\tvalid-logloss:0.686917\n",
      "Multiple eval metrics have been passed: 'valid-logloss' will be used for early stopping.\n",
      "\n",
      "Will train until valid-logloss hasn't improved in 50 rounds.\n",
      "[10]\ttrain-logloss:0.635396\tvalid-logloss:0.635921\n",
      "[20]\ttrain-logloss:0.597785\tvalid-logloss:0.598743\n",
      "[30]\ttrain-logloss:0.569333\tvalid-logloss:0.570661\n",
      "[40]\ttrain-logloss:0.548056\tvalid-logloss:0.549607\n",
      "[50]\ttrain-logloss:0.531641\tvalid-logloss:0.533474\n",
      "[60]\ttrain-logloss:0.518889\tvalid-logloss:0.521008\n",
      "[70]\ttrain-logloss:0.508758\tvalid-logloss:0.511089\n",
      "[80]\ttrain-logloss:0.50065\tvalid-logloss:0.50319\n",
      "[90]\ttrain-logloss:0.494228\tvalid-logloss:0.496942\n",
      "[100]\ttrain-logloss:0.488903\tvalid-logloss:0.491777\n",
      "[110]\ttrain-logloss:0.484527\tvalid-logloss:0.487534\n",
      "[120]\ttrain-logloss:0.480775\tvalid-logloss:0.483918\n",
      "[130]\ttrain-logloss:0.477767\tvalid-logloss:0.481064\n",
      "[140]\ttrain-logloss:0.475273\tvalid-logloss:0.478732\n",
      "[150]\ttrain-logloss:0.47315\tvalid-logloss:0.476733\n",
      "[160]\ttrain-logloss:0.47138\tvalid-logloss:0.475053\n",
      "[170]\ttrain-logloss:0.469868\tvalid-logloss:0.473626\n",
      "[180]\ttrain-logloss:0.46859\tvalid-logloss:0.472447\n",
      "[190]\ttrain-logloss:0.467451\tvalid-logloss:0.471403\n",
      "[199]\ttrain-logloss:0.466569\tvalid-logloss:0.470594\n"
     ]
    }
   ],
   "source": [
    "d_train = xgb.DMatrix(X_train[training_fields], label=y_train)\n",
    "d_valid = xgb.DMatrix(X_test[training_fields], label=y_test)\n",
    "watchlist = [(d_train, 'train'), (d_valid, 'valid')]\n",
    "bst = xgb.train(params, d_train, 200, watchlist, early_stopping_rounds=50, verbose_eval=10)"
   ]
  },
  {
   "cell_type": "code",
   "execution_count": 40,
   "metadata": {
    "collapsed": false
   },
   "outputs": [
    {
     "data": {
      "text/plain": [
       "<matplotlib.axes._subplots.AxesSubplot at 0x7fecf579bbe0>"
      ]
     },
     "execution_count": 40,
     "metadata": {},
     "output_type": "execute_result"
    },
    {
     "data": {
      "image/png": "[encoded data removed]",
      "text/plain": [
       "<matplotlib.figure.Figure at 0x7feca5411940>"
      ]
     },
     "metadata": {},
     "output_type": "display_data"
    }
   ],
   "source": [
    "bst.save_model('input/bst_52.model')\n",
    "xgb.plot_importance(bst)"
   ]
  },
  {
   "cell_type": "markdown",
   "metadata": {},
   "source": [
    "## Submission"
   ]
  },
  {
   "cell_type": "code",
   "execution_count": 5,
   "metadata": {
    "collapsed": true
   },
   "outputs": [],
   "source": [
    "from utils import make_features"
   ]
  },
  {
   "cell_type": "code",
   "execution_count": 3,
   "metadata": {
    "collapsed": false,
    "scrolled": true
   },
   "outputs": [
    {
     "name": "stdout",
     "output_type": "stream",
     "text": [
      "<class 'pandas.core.frame.DataFrame'>\n",
      "RangeIndex: 2345796 entries, 0 to 2345795\n",
      "Data columns (total 3 columns):\n",
      "test_id      int64\n",
      "question1    object\n",
      "question2    object\n",
      "dtypes: int64(1), object(2)\n",
      "memory usage: 53.7+ MB\n"
     ]
    }
   ],
   "source": [
    "df_test = pd.read_csv(\"input/test.csv\", low_memory=False, iterator=True, chunksize=600000)\n",
    "df_test = pd.concat(df_test, ignore_index=True)\n",
    "df_test.info()"
   ]
  },
  {
   "cell_type": "code",
   "execution_count": null,
   "metadata": {
    "collapsed": false
   },
   "outputs": [
    {
     "name": "stdout",
     "output_type": "stream",
     "text": [
      "Preprocessing...\n"
     ]
    }
   ],
   "source": [
    "df_test = make_features(df_test)"
   ]
  },
  {
   "cell_type": "code",
   "execution_count": null,
   "metadata": {
    "collapsed": true
   },
   "outputs": [],
   "source": [
    "df_test.to_pickle('input/test.p')"
   ]
  },
  {
   "cell_type": "code",
   "execution_count": 20,
   "metadata": {
    "collapsed": true
   },
   "outputs": [],
   "source": [
    "d_test = xgb.DMatrix(df_test[training_fields])\n",
    "p_test = bst.predict(d_test)"
   ]
  },
  {
   "cell_type": "code",
   "execution_count": null,
   "metadata": {
    "collapsed": true
   },
   "outputs": [],
   "source": [
    "sub = pd.DataFrame()\n",
    "sub['test_id'] = df_test['test_id']\n",
    "sub['is_duplicate'] = p_test\n",
    "sub.to_csv('simple_xgb.csv', index=False)"
   ]
  }
 ],
 "metadata": {
  "kernelspec": {
   "display_name": "Python 3",
   "language": "python",
   "name": "python3"
  },
  "language_info": {
   "codemirror_mode": {
    "name": "ipython",
    "version": 3
   },
   "file_extension": ".py",
   "mimetype": "text/x-python",
   "name": "python",
   "nbconvert_exporter": "python",
   "pygments_lexer": "ipython3",
   "version": "3.6.0"
  }
 },
 "nbformat": 4,
 "nbformat_minor": 2
}
