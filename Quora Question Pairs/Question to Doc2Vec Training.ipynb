{
 "cells": [
  {
   "cell_type": "markdown",
   "metadata": {},
   "source": [
    "## Question to Doc2Vec Training"
   ]
  },
  {
   "cell_type": "code",
   "execution_count": 1,
   "metadata": {
    "collapsed": true
   },
   "outputs": [],
   "source": [
    "import numpy as np\n",
    "import pandas as pd"
   ]
  },
  {
   "cell_type": "code",
   "execution_count": 2,
   "metadata": {},
   "outputs": [
    {
     "data": {
      "text/html": [
       "<div>\n",
       "<table border=\"1\" class=\"dataframe\">\n",
       "  <thead>\n",
       "    <tr style=\"text-align: right;\">\n",
       "      <th></th>\n",
       "      <th>is_duplicate</th>\n",
       "      <th>question1</th>\n",
       "      <th>question2</th>\n",
       "      <th>diff_avg_word</th>\n",
       "      <th>tf_distance1</th>\n",
       "      <th>tf_distance2</th>\n",
       "      <th>cnt_distance</th>\n",
       "      <th>jaccard_dist</th>\n",
       "      <th>word_match</th>\n",
       "    </tr>\n",
       "  </thead>\n",
       "  <tbody>\n",
       "    <tr>\n",
       "      <th>0</th>\n",
       "      <td>0</td>\n",
       "      <td>step step guid invest share market india</td>\n",
       "      <td>step step guid invest share market</td>\n",
       "      <td>-0.035714</td>\n",
       "      <td>0.034913</td>\n",
       "      <td>0.074441</td>\n",
       "      <td>0.100368</td>\n",
       "      <td>0.230769</td>\n",
       "      <td>0.727273</td>\n",
       "    </tr>\n",
       "    <tr>\n",
       "      <th>1</th>\n",
       "      <td>0</td>\n",
       "      <td>stori kohinoor kohinoor diamond</td>\n",
       "      <td>would happen indian govern stole kohinoor kohi...</td>\n",
       "      <td>-0.394231</td>\n",
       "      <td>0.396372</td>\n",
       "      <td>0.689242</td>\n",
       "      <td>0.572472</td>\n",
       "      <td>0.750000</td>\n",
       "      <td>0.307692</td>\n",
       "    </tr>\n",
       "    <tr>\n",
       "      <th>2</th>\n",
       "      <td>0</td>\n",
       "      <td>increas speed internet connect use vpn</td>\n",
       "      <td>internet speed increas hack dns</td>\n",
       "      <td>-0.685714</td>\n",
       "      <td>0.542446</td>\n",
       "      <td>0.729503</td>\n",
       "      <td>0.519389</td>\n",
       "      <td>0.857143</td>\n",
       "      <td>0.363636</td>\n",
       "    </tr>\n",
       "  </tbody>\n",
       "</table>\n",
       "</div>"
      ],
      "text/plain": [
       "   is_duplicate                                 question1  \\\n",
       "0             0  step step guid invest share market india   \n",
       "1             0           stori kohinoor kohinoor diamond   \n",
       "2             0    increas speed internet connect use vpn   \n",
       "\n",
       "                                           question2  diff_avg_word  \\\n",
       "0                 step step guid invest share market      -0.035714   \n",
       "1  would happen indian govern stole kohinoor kohi...      -0.394231   \n",
       "2                    internet speed increas hack dns      -0.685714   \n",
       "\n",
       "   tf_distance1  tf_distance2  cnt_distance  jaccard_dist  word_match  \n",
       "0      0.034913      0.074441      0.100368      0.230769    0.727273  \n",
       "1      0.396372      0.689242      0.572472      0.750000    0.307692  \n",
       "2      0.542446      0.729503      0.519389      0.857143    0.363636  "
      ]
     },
     "execution_count": 2,
     "metadata": {},
     "output_type": "execute_result"
    }
   ],
   "source": [
    "df = pd.read_pickle('input/train.p')\n",
    "df.head(3)"
   ]
  },
  {
   "cell_type": "markdown",
   "metadata": {},
   "source": [
    "## Save Word2Vec model with Gensim\n",
    "- Training + TestSet (5500172)\n",
    "- Google News Corpus"
   ]
  },
  {
   "cell_type": "code",
   "execution_count": 19,
   "metadata": {},
   "outputs": [],
   "source": [
    "from gensim.models import word2vec\n",
    "from gensim.models import KeyedVectors\n",
    "import multiprocessing"
   ]
  },
  {
   "cell_type": "code",
   "execution_count": 20,
   "metadata": {
    "collapsed": true
   },
   "outputs": [],
   "source": [
    "cores = multiprocessing.cpu_count()"
   ]
  },
  {
   "cell_type": "code",
   "execution_count": 9,
   "metadata": {},
   "outputs": [
    {
     "data": {
      "text/plain": [
       "5500172"
      ]
     },
     "execution_count": 9,
     "metadata": {},
     "output_type": "execute_result"
    }
   ],
   "source": [
    "train_questions = pd.concat([df.question1, df.question2])\n",
    "test_questions = pd.concat([df_test.question1, df_test.question2])\n",
    "all_questions = pd.concat([train_questions, test_questions])\n",
    "len(all_questions)"
   ]
  },
  {
   "cell_type": "code",
   "execution_count": 16,
   "metadata": {},
   "outputs": [],
   "source": [
    "model = KeyedVectors.load_word2vec_format('input/GoogleNews-vectors-negative300.bin', binary=True)  "
   ]
  },
  {
   "cell_type": "code",
   "execution_count": 17,
   "metadata": {},
   "outputs": [
    {
     "data": {
      "text/plain": [
       "0.76640122309953518"
      ]
     },
     "execution_count": 17,
     "metadata": {},
     "output_type": "execute_result"
    }
   ],
   "source": [
    "model.similarity('woman', 'man')"
   ]
  },
  {
   "cell_type": "code",
   "execution_count": 18,
   "metadata": {
    "scrolled": true
   },
   "outputs": [
    {
     "data": {
      "text/plain": [
       "[('programmers', 0.6646655201911926),\n",
       " ('Programmer', 0.6181110739707947),\n",
       " ('coder', 0.6113354563713074),\n",
       " ('programer', 0.6070292592048645),\n",
       " ('computer_programmer', 0.5910932421684265),\n",
       " ('Jon_Shiring', 0.5551139116287231),\n",
       " ('sysadmin', 0.5432621836662292),\n",
       " ('animator', 0.5348355174064636),\n",
       " ('coders', 0.5315176248550415),\n",
       " ('engineer', 0.5284372568130493)]"
      ]
     },
     "execution_count": 18,
     "metadata": {},
     "output_type": "execute_result"
    }
   ],
   "source": [
    "model.most_similar('programmer')"
   ]
  },
  {
   "cell_type": "markdown",
   "metadata": {},
   "source": [
    "## Doc2Vec"
   ]
  },
  {
   "cell_type": "code",
   "execution_count": 74,
   "metadata": {
    "collapsed": true
   },
   "outputs": [],
   "source": [
    "from gensim.models.doc2vec import Doc2Vec\n",
    "from gensim.models import doc2vec\n",
    "from nltk import word_tokenize\n",
    "from tqdm import tqdm\n",
    "# nltk.download('punkt')"
   ]
  },
  {
   "cell_type": "code",
   "execution_count": 23,
   "metadata": {
    "collapsed": true
   },
   "outputs": [],
   "source": [
    "df_train = pd.read_csv('input/train.csv')"
   ]
  },
  {
   "cell_type": "code",
   "execution_count": 56,
   "metadata": {
    "collapsed": true
   },
   "outputs": [],
   "source": [
    "class LabeledLineSentence(object):\n",
    "\n",
    "    def __init__(self, doc_list, labels_list):\n",
    "        self.labels_list = labels_list\n",
    "        self.doc_list = doc_list\n",
    "\n",
    "    def __iter__(self):\n",
    "        for idx, doc in enumerate(self.doc_list):\n",
    "            yield doc2vec.TaggedDocument(words=word_tokenize(doc), tags=[self.labels_list[idx]])"
   ]
  },
  {
   "cell_type": "code",
   "execution_count": null,
   "metadata": {
    "collapsed": true
   },
   "outputs": [],
   "source": [
    "labels = []\n",
    "for label in df_train['id'].tolist():\n",
    "    labels.append('SENT_%s_1' % label)\n",
    "for label in df_train['id'].tolist():\n",
    "    labels.append('SENT_%s_2' % label)"
   ]
  },
  {
   "cell_type": "code",
   "execution_count": 60,
   "metadata": {},
   "outputs": [
    {
     "data": {
      "text/plain": [
       "['step step guid invest share market india',\n",
       " 'stori kohinoor kohinoor diamond',\n",
       " 'increas speed internet connect use vpn',\n",
       " 'mental lone solv',\n",
       " 'one dissolv water quick sugar salt methan carbon di oxid']"
      ]
     },
     "execution_count": 60,
     "metadata": {},
     "output_type": "execute_result"
    }
   ],
   "source": [
    "docs.doc_list[:5]"
   ]
  },
  {
   "cell_type": "code",
   "execution_count": 48,
   "metadata": {},
   "outputs": [],
   "source": [
    "docs = LabeledLineSentence(train_questions.tolist(), labels)\n",
    "it = docs.__iter__()\n",
    "model1 = Doc2Vec(it, size=12, window=8, min_count=5, workers=cores)"
   ]
  },
  {
   "cell_type": "code",
   "execution_count": 61,
   "metadata": {},
   "outputs": [
    {
     "data": {
      "text/plain": [
       "808580"
      ]
     },
     "execution_count": 61,
     "metadata": {},
     "output_type": "execute_result"
    }
   ],
   "source": [
    "model1.corpus_count"
   ]
  },
  {
   "cell_type": "code",
   "execution_count": 63,
   "metadata": {},
   "outputs": [
    {
     "name": "stdout",
     "output_type": "stream",
     "text": [
      "CPU times: user 2.52 ms, sys: 1.73 ms, total: 4.25 ms\n",
      "Wall time: 3.99 ms\n"
     ]
    },
    {
     "data": {
      "text/plain": [
       "0"
      ]
     },
     "execution_count": 63,
     "metadata": {},
     "output_type": "execute_result"
    }
   ],
   "source": [
    "%time model1.train(it, total_examples=model1.corpus_count, epochs=20)"
   ]
  },
  {
   "cell_type": "code",
   "execution_count": 64,
   "metadata": {},
   "outputs": [
    {
     "data": {
      "text/plain": [
       "[('npcomplet', 0.9148457646369934),\n",
       " ('focusconcentr', 0.8950409889221191),\n",
       " ('3050', 0.8718961477279663),\n",
       " ('antiag', 0.8639283180236816),\n",
       " ('alma', 0.8621370792388916),\n",
       " ('handicap', 0.8450130224227905),\n",
       " ('coitus', 0.8414425849914551),\n",
       " ('nake', 0.8406568169593811),\n",
       " ('mite', 0.8279911875724792),\n",
       " ('npo', 0.8273588418960571)]"
      ]
     },
     "execution_count": 64,
     "metadata": {},
     "output_type": "execute_result"
    }
   ],
   "source": [
    "model1.most_similar('step')"
   ]
  },
  {
   "cell_type": "code",
   "execution_count": null,
   "metadata": {
    "collapsed": true
   },
   "outputs": [],
   "source": [
    "X_test.index = np.arange(0, X_test['question1'].shape[0])\n",
    "y_test.index = np.arange(0, X_test['question1'].shape[0])\n",
    "\n",
    "count = 0\n",
    "for i in range(X_test['question1'].shape[0]):\n",
    "    doc1 = word_tokenize(X_test['question1'][i])\n",
    "    doc2 = word_tokenize(X_test['question2'][i])\n",
    "\n",
    "    docvec1 = model1.infer_vector(doc1)\n",
    "    docvec2 = model1.infer_vector(doc2)"
   ]
  },
  {
   "cell_type": "code",
   "execution_count": 72,
   "metadata": {
    "collapsed": true
   },
   "outputs": [],
   "source": [
    "def cosine_similarity(v1, v2):\n",
    "    v1 = np.array(v1)\n",
    "    v2 = np.array(v2)\n",
    "    return np.dot(v1, v2) / (np.sqrt(np.sum(v1**2)) * np.sqrt(np.sum(v2**2)))"
   ]
  },
  {
   "cell_type": "code",
   "execution_count": 79,
   "metadata": {},
   "outputs": [
    {
     "name": "stderr",
     "output_type": "stream",
     "text": [
      "100%|██████████| 404290/404290 [04:58<00:00, 1352.22it/s]\n"
     ]
    }
   ],
   "source": [
    "doc_similarity = []\n",
    "for i in tqdm(range(df['question1'].shape[0])):\n",
    "    doc1 = word_tokenize(df['question1'][i])\n",
    "    doc2 = word_tokenize(df['question2'][i])\n",
    "\n",
    "    docvec1 = model1.infer_vector(doc1)\n",
    "    docvec2 = model1.infer_vector(doc2)\n",
    "    \n",
    "    similarity = cosine_similarity(docvec1, docvec2)\n",
    "    doc_similarity.append(similarity)"
   ]
  },
  {
   "cell_type": "code",
   "execution_count": 70,
   "metadata": {},
   "outputs": [
    {
     "data": {
      "text/plain": [
       "array([ 0.00578766,  0.03320243,  0.02880182,  0.04073226,  0.01728419,\n",
       "        0.01202335,  0.00750114, -0.03486169, -0.02347461,  0.02026902,\n",
       "       -0.01370297,  0.01564579], dtype=float32)"
      ]
     },
     "execution_count": 70,
     "metadata": {},
     "output_type": "execute_result"
    }
   ],
   "source": [
    "docvec1"
   ]
  },
  {
   "cell_type": "code",
   "execution_count": 81,
   "metadata": {},
   "outputs": [
    {
     "data": {
      "text/plain": [
       "[-0.49335498, -0.6562255, -0.15725894]"
      ]
     },
     "execution_count": 81,
     "metadata": {},
     "output_type": "execute_result"
    }
   ],
   "source": [
    "doc_similarity[:3]"
   ]
  },
  {
   "cell_type": "code",
   "execution_count": 80,
   "metadata": {
    "collapsed": true
   },
   "outputs": [],
   "source": [
    "df['doc_similarity'] = doc_similarity "
   ]
  },
  {
   "cell_type": "code",
   "execution_count": 82,
   "metadata": {},
   "outputs": [
    {
     "name": "stdout",
     "output_type": "stream",
     "text": [
      "<class 'pandas.core.frame.DataFrame'>\n",
      "Int64Index: 404290 entries, 0 to 404289\n",
      "Data columns (total 10 columns):\n",
      "is_duplicate      404290 non-null int64\n",
      "question1         404290 non-null object\n",
      "question2         404290 non-null object\n",
      "diff_avg_word     404290 non-null float64\n",
      "tf_distance1      404290 non-null float64\n",
      "tf_distance2      404290 non-null float64\n",
      "cnt_distance      404290 non-null float64\n",
      "jaccard_dist      404290 non-null float64\n",
      "word_match        404290 non-null float64\n",
      "doc_similarity    404290 non-null float64\n",
      "dtypes: float64(7), int64(1), object(2)\n",
      "memory usage: 33.9+ MB\n"
     ]
    }
   ],
   "source": [
    "df.info()"
   ]
  },
  {
   "cell_type": "code",
   "execution_count": 83,
   "metadata": {
    "collapsed": true
   },
   "outputs": [],
   "source": [
    "df.to_pickle('input/train.p')"
   ]
  }
 ],
 "metadata": {
  "kernelspec": {
   "display_name": "Python 3",
   "language": "python",
   "name": "python3"
  },
  "language_info": {
   "codemirror_mode": {
    "name": "ipython",
    "version": 3
   },
   "file_extension": ".py",
   "mimetype": "text/x-python",
   "name": "python",
   "nbconvert_exporter": "python",
   "pygments_lexer": "ipython3",
   "version": "3.5.1"
  }
 },
 "nbformat": 4,
 "nbformat_minor": 2
}
