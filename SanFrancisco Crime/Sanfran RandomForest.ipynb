{
 "cells": [
  {
   "cell_type": "markdown",
   "metadata": {},
   "source": [
    "# Sanfran RandomForest"
   ]
  },
  {
   "cell_type": "code",
   "execution_count": 1,
   "metadata": {
    "collapsed": true
   },
   "outputs": [],
   "source": [
    "import numpy as np\n",
    "import pandas as pd\n",
    "from sklearn.ensemble import RandomForestClassifier\n",
    "from sklearn import preprocessing"
   ]
  },
  {
   "cell_type": "code",
   "execution_count": 2,
   "metadata": {
    "collapsed": false
   },
   "outputs": [],
   "source": [
    "train = pd.read_csv('../data/train.csv')\n",
    "test = pd.read_csv('../data/test.csv')"
   ]
  },
  {
   "cell_type": "code",
   "execution_count": 3,
   "metadata": {
    "collapsed": false
   },
   "outputs": [
    {
     "name": "stdout",
     "output_type": "stream",
     "text": [
      "get datasets\n"
     ]
    }
   ],
   "source": [
    "weekdays = {'Monday':0., 'Tuesday':1., 'Wednesday':2., 'Thursday': 3., 'Friday':4., 'Saturday':5., 'Sunday':6.}\n",
    "categories = {c:i for i,c in enumerate(train['Category'].unique())}\n",
    "cat_rev = {i:c for i,c in enumerate(train['Category'].unique())}\n",
    "districts = {c:i for i,c in enumerate(train['PdDistrict'].unique())}\n",
    "dis_rev = {i:c for i,c in enumerate(train['PdDistrict'].unique())}\n",
    "print(\"get datasets\")"
   ]
  },
  {
   "cell_type": "markdown",
   "metadata": {},
   "source": [
    "## Extract features from given information"
   ]
  },
  {
   "cell_type": "code",
   "execution_count": 4,
   "metadata": {
    "collapsed": false
   },
   "outputs": [
    {
     "data": {
      "text/html": [
       "<div>\n",
       "<table border=\"1\" class=\"dataframe\">\n",
       "  <thead>\n",
       "    <tr style=\"text-align: right;\">\n",
       "      <th></th>\n",
       "      <th>Dates</th>\n",
       "      <th>Category</th>\n",
       "      <th>Descript</th>\n",
       "      <th>DayOfWeek</th>\n",
       "      <th>PdDistrict</th>\n",
       "      <th>Resolution</th>\n",
       "      <th>Address</th>\n",
       "      <th>X</th>\n",
       "      <th>Y</th>\n",
       "      <th>Hour</th>\n",
       "      <th>Minute</th>\n",
       "      <th>Month</th>\n",
       "      <th>Year</th>\n",
       "      <th>Day</th>\n",
       "      <th>Day_Num</th>\n",
       "      <th>District_Num</th>\n",
       "      <th>Category_Num</th>\n",
       "    </tr>\n",
       "  </thead>\n",
       "  <tbody>\n",
       "    <tr>\n",
       "      <th>0</th>\n",
       "      <td>2015-05-13 23:53:00</td>\n",
       "      <td>WARRANTS</td>\n",
       "      <td>WARRANT ARREST</td>\n",
       "      <td>Wednesday</td>\n",
       "      <td>NORTHERN</td>\n",
       "      <td>ARREST, BOOKED</td>\n",
       "      <td>OAK ST / LAGUNA ST</td>\n",
       "      <td>-122.425892</td>\n",
       "      <td>37.774599</td>\n",
       "      <td>23.0</td>\n",
       "      <td>53.0</td>\n",
       "      <td>5.0</td>\n",
       "      <td>12.0</td>\n",
       "      <td>13.0</td>\n",
       "      <td>2.0</td>\n",
       "      <td>0.0</td>\n",
       "      <td>0.0</td>\n",
       "    </tr>\n",
       "    <tr>\n",
       "      <th>1</th>\n",
       "      <td>2015-05-13 23:53:00</td>\n",
       "      <td>OTHER OFFENSES</td>\n",
       "      <td>TRAFFIC VIOLATION ARREST</td>\n",
       "      <td>Wednesday</td>\n",
       "      <td>NORTHERN</td>\n",
       "      <td>ARREST, BOOKED</td>\n",
       "      <td>OAK ST / LAGUNA ST</td>\n",
       "      <td>-122.425892</td>\n",
       "      <td>37.774599</td>\n",
       "      <td>23.0</td>\n",
       "      <td>53.0</td>\n",
       "      <td>5.0</td>\n",
       "      <td>12.0</td>\n",
       "      <td>13.0</td>\n",
       "      <td>2.0</td>\n",
       "      <td>0.0</td>\n",
       "      <td>1.0</td>\n",
       "    </tr>\n",
       "    <tr>\n",
       "      <th>2</th>\n",
       "      <td>2015-05-13 23:33:00</td>\n",
       "      <td>OTHER OFFENSES</td>\n",
       "      <td>TRAFFIC VIOLATION ARREST</td>\n",
       "      <td>Wednesday</td>\n",
       "      <td>NORTHERN</td>\n",
       "      <td>ARREST, BOOKED</td>\n",
       "      <td>VANNESS AV / GREENWICH ST</td>\n",
       "      <td>-122.424363</td>\n",
       "      <td>37.800414</td>\n",
       "      <td>23.0</td>\n",
       "      <td>33.0</td>\n",
       "      <td>5.0</td>\n",
       "      <td>12.0</td>\n",
       "      <td>13.0</td>\n",
       "      <td>2.0</td>\n",
       "      <td>0.0</td>\n",
       "      <td>1.0</td>\n",
       "    </tr>\n",
       "    <tr>\n",
       "      <th>3</th>\n",
       "      <td>2015-05-13 23:30:00</td>\n",
       "      <td>LARCENY/THEFT</td>\n",
       "      <td>GRAND THEFT FROM LOCKED AUTO</td>\n",
       "      <td>Wednesday</td>\n",
       "      <td>NORTHERN</td>\n",
       "      <td>NONE</td>\n",
       "      <td>1500 Block of LOMBARD ST</td>\n",
       "      <td>-122.426995</td>\n",
       "      <td>37.800873</td>\n",
       "      <td>23.0</td>\n",
       "      <td>30.0</td>\n",
       "      <td>5.0</td>\n",
       "      <td>12.0</td>\n",
       "      <td>13.0</td>\n",
       "      <td>2.0</td>\n",
       "      <td>0.0</td>\n",
       "      <td>2.0</td>\n",
       "    </tr>\n",
       "    <tr>\n",
       "      <th>4</th>\n",
       "      <td>2015-05-13 23:30:00</td>\n",
       "      <td>LARCENY/THEFT</td>\n",
       "      <td>GRAND THEFT FROM LOCKED AUTO</td>\n",
       "      <td>Wednesday</td>\n",
       "      <td>PARK</td>\n",
       "      <td>NONE</td>\n",
       "      <td>100 Block of BRODERICK ST</td>\n",
       "      <td>-122.438738</td>\n",
       "      <td>37.771541</td>\n",
       "      <td>23.0</td>\n",
       "      <td>30.0</td>\n",
       "      <td>5.0</td>\n",
       "      <td>12.0</td>\n",
       "      <td>13.0</td>\n",
       "      <td>2.0</td>\n",
       "      <td>1.0</td>\n",
       "      <td>2.0</td>\n",
       "    </tr>\n",
       "  </tbody>\n",
       "</table>\n",
       "</div>"
      ],
      "text/plain": [
       "                 Dates        Category                      Descript  \\\n",
       "0  2015-05-13 23:53:00        WARRANTS                WARRANT ARREST   \n",
       "1  2015-05-13 23:53:00  OTHER OFFENSES      TRAFFIC VIOLATION ARREST   \n",
       "2  2015-05-13 23:33:00  OTHER OFFENSES      TRAFFIC VIOLATION ARREST   \n",
       "3  2015-05-13 23:30:00   LARCENY/THEFT  GRAND THEFT FROM LOCKED AUTO   \n",
       "4  2015-05-13 23:30:00   LARCENY/THEFT  GRAND THEFT FROM LOCKED AUTO   \n",
       "\n",
       "   DayOfWeek PdDistrict      Resolution                    Address  \\\n",
       "0  Wednesday   NORTHERN  ARREST, BOOKED         OAK ST / LAGUNA ST   \n",
       "1  Wednesday   NORTHERN  ARREST, BOOKED         OAK ST / LAGUNA ST   \n",
       "2  Wednesday   NORTHERN  ARREST, BOOKED  VANNESS AV / GREENWICH ST   \n",
       "3  Wednesday   NORTHERN            NONE   1500 Block of LOMBARD ST   \n",
       "4  Wednesday       PARK            NONE  100 Block of BRODERICK ST   \n",
       "\n",
       "            X          Y  Hour  Minute  Month  Year   Day  Day_Num  \\\n",
       "0 -122.425892  37.774599  23.0    53.0    5.0  12.0  13.0      2.0   \n",
       "1 -122.425892  37.774599  23.0    53.0    5.0  12.0  13.0      2.0   \n",
       "2 -122.424363  37.800414  23.0    33.0    5.0  12.0  13.0      2.0   \n",
       "3 -122.426995  37.800873  23.0    30.0    5.0  12.0  13.0      2.0   \n",
       "4 -122.438738  37.771541  23.0    30.0    5.0  12.0  13.0      2.0   \n",
       "\n",
       "   District_Num  Category_Num  \n",
       "0           0.0           0.0  \n",
       "1           0.0           1.0  \n",
       "2           0.0           1.0  \n",
       "3           0.0           2.0  \n",
       "4           1.0           2.0  "
      ]
     },
     "execution_count": 4,
     "metadata": {},
     "output_type": "execute_result"
    }
   ],
   "source": [
    "# Extract features from given information\n",
    "train['Hour'] = list(map(lambda x: float(int(x.split(' ')[1].split(':')[0])),train.Dates))\n",
    "test['Hour'] = list(map(lambda x: float(int(x.split(' ')[1].split(':')[0])),test.Dates))\n",
    "\n",
    "train['Minute'] = list(map(lambda x: float(int(x.split(' ')[1].split(':')[1])),train.Dates))\n",
    "test['Minute'] = list(map(lambda x: float(int(x.split(' ')[1].split(':')[1])),test.Dates))\n",
    "\n",
    "train['Month'] = list(map(lambda x: float(x.split(' ')[0].split('-')[1]), train.Dates))\n",
    "test['Month'] = list(map(lambda x: float(x.split(' ')[0].split('-')[1]), test.Dates))\n",
    "\n",
    "train['Year'] = list(map(lambda x: float(x.split(' ')[0].split('-')[0])-2003., train.Dates))\n",
    "test['Year'] = list(map(lambda x: float(x.split(' ')[0].split('-')[0])-2003., test.Dates))\n",
    "\n",
    "train['Day'] = list(map(lambda x: float(x.split(' ')[0].split('-')[2]), train.Dates))\n",
    "test['Day'] = list(map(lambda x: float(x.split(' ')[0].split('-')[2]), test.Dates))\n",
    "\n",
    "train['Day_Num'] = [float(weekdays[w]) for w in train.DayOfWeek]\n",
    "test['Day_Num'] = [float(weekdays[w]) for w in test.DayOfWeek]\n",
    "\n",
    "train['District_Num'] = [float(districts[t]) for t in train.PdDistrict]\n",
    "test['District_Num'] = [float(districts[t]) for t in test.PdDistrict]\n",
    "\n",
    "train['Category_Num'] = [float(categories[t]) for t in train.Category]\n",
    "\n",
    "train.head()"
   ]
  },
  {
   "cell_type": "code",
   "execution_count": 5,
   "metadata": {
    "collapsed": false
   },
   "outputs": [
    {
     "data": {
      "text/html": [
       "<div>\n",
       "<table border=\"1\" class=\"dataframe\">\n",
       "  <thead>\n",
       "    <tr style=\"text-align: right;\">\n",
       "      <th></th>\n",
       "      <th>Dates</th>\n",
       "      <th>Category</th>\n",
       "      <th>Descript</th>\n",
       "      <th>DayOfWeek</th>\n",
       "      <th>PdDistrict</th>\n",
       "      <th>Resolution</th>\n",
       "      <th>Address</th>\n",
       "      <th>X</th>\n",
       "      <th>Y</th>\n",
       "      <th>Hour</th>\n",
       "      <th>Minute</th>\n",
       "      <th>Month</th>\n",
       "      <th>Year</th>\n",
       "      <th>Day</th>\n",
       "      <th>Day_Num</th>\n",
       "      <th>District_Num</th>\n",
       "      <th>Category_Num</th>\n",
       "    </tr>\n",
       "  </thead>\n",
       "  <tbody>\n",
       "    <tr>\n",
       "      <th>0</th>\n",
       "      <td>2015-05-13 23:53:00</td>\n",
       "      <td>WARRANTS</td>\n",
       "      <td>WARRANT ARREST</td>\n",
       "      <td>Wednesday</td>\n",
       "      <td>NORTHERN</td>\n",
       "      <td>ARREST, BOOKED</td>\n",
       "      <td>OAK ST / LAGUNA ST</td>\n",
       "      <td>-0.107902</td>\n",
       "      <td>0.007832</td>\n",
       "      <td>23.0</td>\n",
       "      <td>53.0</td>\n",
       "      <td>5.0</td>\n",
       "      <td>12.0</td>\n",
       "      <td>13.0</td>\n",
       "      <td>2.0</td>\n",
       "      <td>0.0</td>\n",
       "      <td>0.0</td>\n",
       "    </tr>\n",
       "    <tr>\n",
       "      <th>1</th>\n",
       "      <td>2015-05-13 23:53:00</td>\n",
       "      <td>OTHER OFFENSES</td>\n",
       "      <td>TRAFFIC VIOLATION ARREST</td>\n",
       "      <td>Wednesday</td>\n",
       "      <td>NORTHERN</td>\n",
       "      <td>ARREST, BOOKED</td>\n",
       "      <td>OAK ST / LAGUNA ST</td>\n",
       "      <td>-0.107902</td>\n",
       "      <td>0.007832</td>\n",
       "      <td>23.0</td>\n",
       "      <td>53.0</td>\n",
       "      <td>5.0</td>\n",
       "      <td>12.0</td>\n",
       "      <td>13.0</td>\n",
       "      <td>2.0</td>\n",
       "      <td>0.0</td>\n",
       "      <td>1.0</td>\n",
       "    </tr>\n",
       "    <tr>\n",
       "      <th>2</th>\n",
       "      <td>2015-05-13 23:33:00</td>\n",
       "      <td>OTHER OFFENSES</td>\n",
       "      <td>TRAFFIC VIOLATION ARREST</td>\n",
       "      <td>Wednesday</td>\n",
       "      <td>NORTHERN</td>\n",
       "      <td>ARREST, BOOKED</td>\n",
       "      <td>VANNESS AV / GREENWICH ST</td>\n",
       "      <td>-0.057541</td>\n",
       "      <td>0.064335</td>\n",
       "      <td>23.0</td>\n",
       "      <td>33.0</td>\n",
       "      <td>5.0</td>\n",
       "      <td>12.0</td>\n",
       "      <td>13.0</td>\n",
       "      <td>2.0</td>\n",
       "      <td>0.0</td>\n",
       "      <td>1.0</td>\n",
       "    </tr>\n",
       "    <tr>\n",
       "      <th>3</th>\n",
       "      <td>2015-05-13 23:30:00</td>\n",
       "      <td>LARCENY/THEFT</td>\n",
       "      <td>GRAND THEFT FROM LOCKED AUTO</td>\n",
       "      <td>Wednesday</td>\n",
       "      <td>NORTHERN</td>\n",
       "      <td>NONE</td>\n",
       "      <td>1500 Block of LOMBARD ST</td>\n",
       "      <td>-0.144262</td>\n",
       "      <td>0.065338</td>\n",
       "      <td>23.0</td>\n",
       "      <td>30.0</td>\n",
       "      <td>5.0</td>\n",
       "      <td>12.0</td>\n",
       "      <td>13.0</td>\n",
       "      <td>2.0</td>\n",
       "      <td>0.0</td>\n",
       "      <td>2.0</td>\n",
       "    </tr>\n",
       "    <tr>\n",
       "      <th>4</th>\n",
       "      <td>2015-05-13 23:30:00</td>\n",
       "      <td>LARCENY/THEFT</td>\n",
       "      <td>GRAND THEFT FROM LOCKED AUTO</td>\n",
       "      <td>Wednesday</td>\n",
       "      <td>PARK</td>\n",
       "      <td>NONE</td>\n",
       "      <td>100 Block of BRODERICK ST</td>\n",
       "      <td>-0.531112</td>\n",
       "      <td>0.001140</td>\n",
       "      <td>23.0</td>\n",
       "      <td>30.0</td>\n",
       "      <td>5.0</td>\n",
       "      <td>12.0</td>\n",
       "      <td>13.0</td>\n",
       "      <td>2.0</td>\n",
       "      <td>1.0</td>\n",
       "      <td>2.0</td>\n",
       "    </tr>\n",
       "  </tbody>\n",
       "</table>\n",
       "</div>"
      ],
      "text/plain": [
       "                 Dates        Category                      Descript  \\\n",
       "0  2015-05-13 23:53:00        WARRANTS                WARRANT ARREST   \n",
       "1  2015-05-13 23:53:00  OTHER OFFENSES      TRAFFIC VIOLATION ARREST   \n",
       "2  2015-05-13 23:33:00  OTHER OFFENSES      TRAFFIC VIOLATION ARREST   \n",
       "3  2015-05-13 23:30:00   LARCENY/THEFT  GRAND THEFT FROM LOCKED AUTO   \n",
       "4  2015-05-13 23:30:00   LARCENY/THEFT  GRAND THEFT FROM LOCKED AUTO   \n",
       "\n",
       "   DayOfWeek PdDistrict      Resolution                    Address         X  \\\n",
       "0  Wednesday   NORTHERN  ARREST, BOOKED         OAK ST / LAGUNA ST -0.107902   \n",
       "1  Wednesday   NORTHERN  ARREST, BOOKED         OAK ST / LAGUNA ST -0.107902   \n",
       "2  Wednesday   NORTHERN  ARREST, BOOKED  VANNESS AV / GREENWICH ST -0.057541   \n",
       "3  Wednesday   NORTHERN            NONE   1500 Block of LOMBARD ST -0.144262   \n",
       "4  Wednesday       PARK            NONE  100 Block of BRODERICK ST -0.531112   \n",
       "\n",
       "          Y  Hour  Minute  Month  Year   Day  Day_Num  District_Num  \\\n",
       "0  0.007832  23.0    53.0    5.0  12.0  13.0      2.0           0.0   \n",
       "1  0.007832  23.0    53.0    5.0  12.0  13.0      2.0           0.0   \n",
       "2  0.064335  23.0    33.0    5.0  12.0  13.0      2.0           0.0   \n",
       "3  0.065338  23.0    30.0    5.0  12.0  13.0      2.0           0.0   \n",
       "4  0.001140  23.0    30.0    5.0  12.0  13.0      2.0           1.0   \n",
       "\n",
       "   Category_Num  \n",
       "0           0.0  \n",
       "1           1.0  \n",
       "2           1.0  \n",
       "3           2.0  \n",
       "4           2.0  "
      ]
     },
     "execution_count": 5,
     "metadata": {},
     "output_type": "execute_result"
    }
   ],
   "source": [
    "train['X'] = preprocessing.scale(list(map(lambda x: x+122.4194, train.X)))\n",
    "train['Y'] = preprocessing.scale(list(map(lambda x: x-37.7749, train.Y)))\n",
    "\n",
    "test['X'] = preprocessing.scale(list(map(lambda x: x+122.4194, test.X)))\n",
    "test['Y'] = preprocessing.scale(list(map(lambda x: x-37.7749, test.Y)))\n",
    "train.head()"
   ]
  },
  {
   "cell_type": "markdown",
   "metadata": {},
   "source": [
    "## Assign binary value to address by type"
   ]
  },
  {
   "cell_type": "code",
   "execution_count": 6,
   "metadata": {
    "collapsed": true
   },
   "outputs": [],
   "source": [
    "# Assign binary value to address by type\n",
    "def define_address(addr):\n",
    "    addr_type = 0.\n",
    "    # Address types:\n",
    "    # Intersection: 1\n",
    "    # Residence: 0\n",
    "    if '/' in addr and 'of' not in addr:\n",
    "        addr_type = 1.\n",
    "    else:\n",
    "        add_type = 0.\n",
    "    return addr_type\n",
    "\n",
    "# Define address feature\n",
    "train['Address_Num'] = list(map(define_address, train.Address))\n",
    "test['Address_Num'] = list(map(define_address, test.Address))"
   ]
  },
  {
   "cell_type": "markdown",
   "metadata": {},
   "source": [
    "## Feature selection"
   ]
  },
  {
   "cell_type": "code",
   "execution_count": 7,
   "metadata": {
    "collapsed": true
   },
   "outputs": [],
   "source": [
    "X_loc = ['X', 'Y', 'District_Num', 'Address_Num']\n",
    "X_time = ['Minute', 'Hour']\n",
    "X_date = ['Year','Month', 'Day', 'Day_Num']\n",
    "X_all = X_loc + X_time + X_date"
   ]
  },
  {
   "cell_type": "code",
   "execution_count": 8,
   "metadata": {
    "collapsed": false
   },
   "outputs": [
    {
     "name": "stdout",
     "output_type": "stream",
     "text": [
      "                 Dates        Category                      Descript  \\\n",
      "0  2015-05-13 23:53:00        WARRANTS                WARRANT ARREST   \n",
      "1  2015-05-13 23:53:00  OTHER OFFENSES      TRAFFIC VIOLATION ARREST   \n",
      "2  2015-05-13 23:33:00  OTHER OFFENSES      TRAFFIC VIOLATION ARREST   \n",
      "3  2015-05-13 23:30:00   LARCENY/THEFT  GRAND THEFT FROM LOCKED AUTO   \n",
      "4  2015-05-13 23:30:00   LARCENY/THEFT  GRAND THEFT FROM LOCKED AUTO   \n",
      "\n",
      "   DayOfWeek PdDistrict      Resolution                    Address         X  \\\n",
      "0  Wednesday   NORTHERN  ARREST, BOOKED         OAK ST / LAGUNA ST -0.107902   \n",
      "1  Wednesday   NORTHERN  ARREST, BOOKED         OAK ST / LAGUNA ST -0.107902   \n",
      "2  Wednesday   NORTHERN  ARREST, BOOKED  VANNESS AV / GREENWICH ST -0.057541   \n",
      "3  Wednesday   NORTHERN            NONE   1500 Block of LOMBARD ST -0.144262   \n",
      "4  Wednesday       PARK            NONE  100 Block of BRODERICK ST -0.531112   \n",
      "\n",
      "          Y  Hour  Minute  Month  Year   Day  Day_Num  District_Num  \\\n",
      "0  0.007832  23.0    53.0    5.0  12.0  13.0      2.0           0.0   \n",
      "1  0.007832  23.0    53.0    5.0  12.0  13.0      2.0           0.0   \n",
      "2  0.064335  23.0    33.0    5.0  12.0  13.0      2.0           0.0   \n",
      "3  0.065338  23.0    30.0    5.0  12.0  13.0      2.0           0.0   \n",
      "4  0.001140  23.0    30.0    5.0  12.0  13.0      2.0           1.0   \n",
      "\n",
      "   Category_Num  Address_Num  \n",
      "0           0.0          1.0  \n",
      "1           1.0          1.0  \n",
      "2           1.0          1.0  \n",
      "3           2.0          0.0  \n",
      "4           2.0          0.0  \n"
     ]
    }
   ],
   "source": [
    "# Category column we want to predict\n",
    "y = 'Category_Num'\n",
    "print(train.head())"
   ]
  },
  {
   "cell_type": "code",
   "execution_count": 9,
   "metadata": {
    "collapsed": false
   },
   "outputs": [
    {
     "name": "stderr",
     "output_type": "stream",
     "text": [
      "/Users/junyoung/.pyenv/versions/python3/lib/python3.5/site-packages/sklearn/ensemble/forest.py:439: UserWarning: Some inputs do not have OOB scores. This probably means too few trees were used to compute any reliable oob estimates.\n",
      "  warn(\"Some inputs do not have OOB scores. \"\n",
      "/Users/junyoung/.pyenv/versions/python3/lib/python3.5/site-packages/sklearn/ensemble/forest.py:444: RuntimeWarning: invalid value encountered in true_divide\n",
      "  predictions[k].sum(axis=1)[:, np.newaxis])\n"
     ]
    }
   ],
   "source": [
    "# Create random forest classifie\n",
    "clf = RandomForestClassifier(max_features=\"log2\", max_depth=11, n_estimators=24,\n",
    "                             min_samples_split=1000, oob_score=True)\n",
    "# Fit prediction\n",
    "clf.fit(train[X_all], train[y])\n",
    "pred = clf.predict_proba(test[X_all])"
   ]
  },
  {
   "cell_type": "markdown",
   "metadata": {},
   "source": [
    "## Submission"
   ]
  },
  {
   "cell_type": "code",
   "execution_count": 10,
   "metadata": {
    "collapsed": false
   },
   "outputs": [
    {
     "name": "stdout",
     "output_type": "stream",
     "text": [
      "   Id     ARSON   ASSAULT  BAD CHECKS   BRIBERY  BURGLARY  DISORDERLY CONDUCT  \\\n",
      "0   0  0.003865  0.152396    0.000014  0.001000  0.032813            0.002480   \n",
      "1   1  0.001817  0.060330    0.000000  0.000181  0.001664            0.003039   \n",
      "2   2  0.002838  0.100090    0.000161  0.000242  0.075124            0.002467   \n",
      "3   3  0.003512  0.150962    0.000026  0.000675  0.030094            0.003548   \n",
      "4   4  0.003512  0.150962    0.000026  0.000675  0.030094            0.003548   \n",
      "\n",
      "   DRIVING UNDER THE INFLUENCE  DRUG/NARCOTIC  DRUNKENNESS     ...       \\\n",
      "0                     0.004252       0.048995     0.005421     ...        \n",
      "1                     0.009365       0.073277     0.003159     ...        \n",
      "2                     0.002407       0.029234     0.005886     ...        \n",
      "3                     0.003973       0.046315     0.007132     ...        \n",
      "4                     0.003973       0.046315     0.007132     ...        \n",
      "\n",
      "   SEX OFFENSES NON FORCIBLE  STOLEN PROPERTY   SUICIDE  SUSPICIOUS OCC  TREA  \\\n",
      "0                   0.000013         0.005072  0.000963        0.052821   0.0   \n",
      "1                   0.000000         0.006297  0.000098        0.036173   0.0   \n",
      "2                   0.000011         0.009983  0.000931        0.040864   0.0   \n",
      "3                   0.000245         0.006516  0.001078        0.050993   0.0   \n",
      "4                   0.000245         0.006516  0.001078        0.050993   0.0   \n",
      "\n",
      "   TRESPASS  VANDALISM  VEHICLE THEFT  WARRANTS  WEAPON LAWS  \n",
      "0  0.007750   0.057765       0.052782  0.054124     0.026213  \n",
      "1  0.000745   0.025294       0.024863  0.068582     0.022534  \n",
      "2  0.012594   0.050544       0.035959  0.041301     0.008064  \n",
      "3  0.006237   0.061240       0.047780  0.054857     0.022387  \n",
      "4  0.006237   0.061240       0.047780  0.054857     0.022387  \n",
      "\n",
      "[5 rows x 40 columns]\n"
     ]
    }
   ],
   "source": [
    "# Create submission\n",
    "submission = pd.DataFrame({cat_rev[p] : [pred[i][p] for i in range(len(pred))] for p in range(len(pred[0]))})\n",
    "submission['Id'] = [i for i in range(len(submission))]\n",
    "submission = submission[['Id'] + sorted(train['Category'].unique())]\n",
    "print(submission.head())\n",
    "\n",
    "# Write submission\n",
    "submission.to_csv('submission1.csv.gz', index=False, compression='gzip')"
   ]
  }
 ],
 "metadata": {
  "kernelspec": {
   "display_name": "Python 3",
   "language": "python",
   "name": "python3"
  },
  "language_info": {
   "codemirror_mode": {
    "name": "ipython",
    "version": 3
   },
   "file_extension": ".py",
   "mimetype": "text/x-python",
   "name": "python",
   "nbconvert_exporter": "python",
   "pygments_lexer": "ipython3",
   "version": "3.5.1"
  }
 },
 "nbformat": 4,
 "nbformat_minor": 2
}
